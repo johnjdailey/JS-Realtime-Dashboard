{
 "cells": [
  {
   "cell_type": "code",
   "execution_count": 9,
   "source": [
    "import pandas as pd\r\n",
    "import warnings\r\n",
    "from datetime import datetime, timedelta\r\n",
    "from statsmodels.tsa.arima.model import ARIMA\r\n",
    "import psycopg2\r\n",
    "import time"
   ],
   "outputs": [],
   "metadata": {}
  },
  {
   "cell_type": "code",
   "execution_count": 2,
   "source": [
    "warnings.filterwarnings(\"ignore\")\r\n",
    "conn = psycopg2.connect(database=\"postgres\", user=\"postgres\",\r\n",
    "                        password=\"password\", host=\"127.0.0.1\", port=\"5432\")"
   ],
   "outputs": [],
   "metadata": {}
  },
  {
   "cell_type": "code",
   "execution_count": 36,
   "source": [
    "cur = conn.cursor()\r\n",
    "cur.execute('''SELECT to_timestamp(floor((extract('epoch' from Created_at) / 30 )) * 30) AT TIME ZONE 'UTC' time_ , avg(price) price_\r\n",
    "                            FROM BT_Price\r\n",
    "                            WHERE created_at <= date_trunc('hour',  now() + interval '1 hour') and created_at >= (now() - interval '1 hour')\r\n",
    "                            GROUP BY time_\r\n",
    "                            ORDER BY time_''')\r\n",
    "rows = cur.fetchall()\r\n",
    "conn.commit()\r\n",
    "\r\n",
    "df = pd.DataFrame(rows, columns=['time', 'price'])\r\n",
    "results = []\r\n",
    "history = [x for x in df[\"price\"].values]\r\n",
    "\r\n",
    "for i in range(0, 5):\r\n",
    "    current_res = {}\r\n",
    "    current_time = datetime.now() + timedelta(seconds=(i * 30))\r\n",
    "    model = ARIMA(history, order=(0, 3, 2))\r\n",
    "    model_fit = model.fit()\r\n",
    "    output = model_fit.forecast()\r\n",
    "    yhat = output[0]\r\n",
    "    current_res[\"price\"] = yhat\r\n",
    "    if current_time.second < 30:\r\n",
    "        newdatetime = current_time.replace(second=30, microsecond=0)\r\n",
    "    elif newdatetime.minute + 1 <= 59:\r\n",
    "        newdatetime = current_time.replace(minute=(current_time.minute + (1)), second=0, microsecond=0)\r\n",
    "    elif(newdatetime.hour != 23):\r\n",
    "        newdatetime = current_time.replace(hour=(current_time.hour + 1), minute=1, second=0, microsecond=0)\r\n",
    "    else:\r\n",
    "        newdatetime = newdatetime.replace(hour=(current_time.hour + 1), minute=1, second=0, microsecond=0)\r\n",
    "    current_res[\"datetime\"] = newdatetime\r\n",
    "    results.append(current_res) # SQL\r\n",
    "    history.append(yhat)"
   ],
   "outputs": [],
   "metadata": {}
  },
  {
   "cell_type": "code",
   "execution_count": 37,
   "source": [
    "for res in results:\n",
    "    print(res)"
   ],
   "outputs": [
    {
     "output_type": "stream",
     "name": "stdout",
     "text": [
      "{'price': 34458.72472059648, 'datetime': datetime.datetime(2021, 6, 28, 22, 43)}\n",
      "{'price': 34461.175252766174, 'datetime': datetime.datetime(2021, 6, 28, 22, 43, 30)}\n",
      "{'price': 34463.73636938098, 'datetime': datetime.datetime(2021, 6, 28, 22, 44)}\n",
      "{'price': 34466.40876774974, 'datetime': datetime.datetime(2021, 6, 28, 22, 44, 30)}\n",
      "{'price': 34469.1931112571, 'datetime': datetime.datetime(2021, 6, 28, 22, 45)}\n"
     ]
    }
   ],
   "metadata": {}
  },
  {
   "cell_type": "code",
   "execution_count": null,
   "source": [],
   "outputs": [],
   "metadata": {}
  }
 ],
 "metadata": {
  "kernelspec": {
   "display_name": "Python 3",
   "language": "python",
   "name": "python3"
  },
  "language_info": {
   "codemirror_mode": {
    "name": "ipython",
    "version": 3
   },
   "file_extension": ".py",
   "mimetype": "text/x-python",
   "name": "python",
   "nbconvert_exporter": "python",
   "pygments_lexer": "ipython3",
   "version": "3.8.2"
  }
 },
 "nbformat": 4,
 "nbformat_minor": 5
}